{
  "nbformat": 4,
  "nbformat_minor": 0,
  "metadata": {
    "colab": {
      "name": "fastaitest.ipynb",
      "provenance": [],
      "toc_visible": true
    },
    "kernelspec": {
      "name": "python3",
      "display_name": "Python 3"
    },
    "accelerator": "GPU",
    "widgets": {
      "application/vnd.jupyter.widget-state+json": {
        "899b111bde0c4962b061f0d102cb2d50": {
          "model_module": "@jupyter-widgets/controls",
          "model_name": "HBoxModel",
          "state": {
            "_view_name": "HBoxView",
            "_dom_classes": [],
            "_model_name": "HBoxModel",
            "_view_module": "@jupyter-widgets/controls",
            "_model_module_version": "1.5.0",
            "_view_count": null,
            "_view_module_version": "1.5.0",
            "box_style": "",
            "layout": "IPY_MODEL_dd62c44e5a8d4d318bb3fb163a1687d1",
            "_model_module": "@jupyter-widgets/controls",
            "children": [
              "IPY_MODEL_b5f39de2ae794019b6703c09c22b5a55",
              "IPY_MODEL_e5bcffffcb3f4e38ad4ca83be4a1de96"
            ]
          }
        },
        "dd62c44e5a8d4d318bb3fb163a1687d1": {
          "model_module": "@jupyter-widgets/base",
          "model_name": "LayoutModel",
          "state": {
            "_view_name": "LayoutView",
            "grid_template_rows": null,
            "right": null,
            "justify_content": null,
            "_view_module": "@jupyter-widgets/base",
            "overflow": null,
            "_model_module_version": "1.2.0",
            "_view_count": null,
            "flex_flow": null,
            "width": null,
            "min_width": null,
            "border": null,
            "align_items": null,
            "bottom": null,
            "_model_module": "@jupyter-widgets/base",
            "top": null,
            "grid_column": null,
            "overflow_y": null,
            "overflow_x": null,
            "grid_auto_flow": null,
            "grid_area": null,
            "grid_template_columns": null,
            "flex": null,
            "_model_name": "LayoutModel",
            "justify_items": null,
            "grid_row": null,
            "max_height": null,
            "align_content": null,
            "visibility": null,
            "align_self": null,
            "height": null,
            "min_height": null,
            "padding": null,
            "grid_auto_rows": null,
            "grid_gap": null,
            "max_width": null,
            "order": null,
            "_view_module_version": "1.2.0",
            "grid_template_areas": null,
            "object_position": null,
            "object_fit": null,
            "grid_auto_columns": null,
            "margin": null,
            "display": null,
            "left": null
          }
        },
        "b5f39de2ae794019b6703c09c22b5a55": {
          "model_module": "@jupyter-widgets/controls",
          "model_name": "FloatProgressModel",
          "state": {
            "_view_name": "ProgressView",
            "style": "IPY_MODEL_d2c68886c3584f4bb6d7aea631b6b0c0",
            "_dom_classes": [],
            "description": "100%",
            "_model_name": "FloatProgressModel",
            "bar_style": "success",
            "max": 553507836,
            "_view_module": "@jupyter-widgets/controls",
            "_model_module_version": "1.5.0",
            "value": 553507836,
            "_view_count": null,
            "_view_module_version": "1.5.0",
            "orientation": "horizontal",
            "min": 0,
            "description_tooltip": null,
            "_model_module": "@jupyter-widgets/controls",
            "layout": "IPY_MODEL_986fe6b3e11a4048b63422f93845cdb3"
          }
        },
        "e5bcffffcb3f4e38ad4ca83be4a1de96": {
          "model_module": "@jupyter-widgets/controls",
          "model_name": "HTMLModel",
          "state": {
            "_view_name": "HTMLView",
            "style": "IPY_MODEL_090e6102044348c6b3904c31d29264de",
            "_dom_classes": [],
            "description": "",
            "_model_name": "HTMLModel",
            "placeholder": "​",
            "_view_module": "@jupyter-widgets/controls",
            "_model_module_version": "1.5.0",
            "value": " 528M/528M [00:45&lt;00:00, 12.2MB/s]",
            "_view_count": null,
            "_view_module_version": "1.5.0",
            "description_tooltip": null,
            "_model_module": "@jupyter-widgets/controls",
            "layout": "IPY_MODEL_5a53f00e17934100925c5d02d9c40d8a"
          }
        },
        "d2c68886c3584f4bb6d7aea631b6b0c0": {
          "model_module": "@jupyter-widgets/controls",
          "model_name": "ProgressStyleModel",
          "state": {
            "_view_name": "StyleView",
            "_model_name": "ProgressStyleModel",
            "description_width": "initial",
            "_view_module": "@jupyter-widgets/base",
            "_model_module_version": "1.5.0",
            "_view_count": null,
            "_view_module_version": "1.2.0",
            "bar_color": null,
            "_model_module": "@jupyter-widgets/controls"
          }
        },
        "986fe6b3e11a4048b63422f93845cdb3": {
          "model_module": "@jupyter-widgets/base",
          "model_name": "LayoutModel",
          "state": {
            "_view_name": "LayoutView",
            "grid_template_rows": null,
            "right": null,
            "justify_content": null,
            "_view_module": "@jupyter-widgets/base",
            "overflow": null,
            "_model_module_version": "1.2.0",
            "_view_count": null,
            "flex_flow": null,
            "width": null,
            "min_width": null,
            "border": null,
            "align_items": null,
            "bottom": null,
            "_model_module": "@jupyter-widgets/base",
            "top": null,
            "grid_column": null,
            "overflow_y": null,
            "overflow_x": null,
            "grid_auto_flow": null,
            "grid_area": null,
            "grid_template_columns": null,
            "flex": null,
            "_model_name": "LayoutModel",
            "justify_items": null,
            "grid_row": null,
            "max_height": null,
            "align_content": null,
            "visibility": null,
            "align_self": null,
            "height": null,
            "min_height": null,
            "padding": null,
            "grid_auto_rows": null,
            "grid_gap": null,
            "max_width": null,
            "order": null,
            "_view_module_version": "1.2.0",
            "grid_template_areas": null,
            "object_position": null,
            "object_fit": null,
            "grid_auto_columns": null,
            "margin": null,
            "display": null,
            "left": null
          }
        },
        "090e6102044348c6b3904c31d29264de": {
          "model_module": "@jupyter-widgets/controls",
          "model_name": "DescriptionStyleModel",
          "state": {
            "_view_name": "StyleView",
            "_model_name": "DescriptionStyleModel",
            "description_width": "",
            "_view_module": "@jupyter-widgets/base",
            "_model_module_version": "1.5.0",
            "_view_count": null,
            "_view_module_version": "1.2.0",
            "_model_module": "@jupyter-widgets/controls"
          }
        },
        "5a53f00e17934100925c5d02d9c40d8a": {
          "model_module": "@jupyter-widgets/base",
          "model_name": "LayoutModel",
          "state": {
            "_view_name": "LayoutView",
            "grid_template_rows": null,
            "right": null,
            "justify_content": null,
            "_view_module": "@jupyter-widgets/base",
            "overflow": null,
            "_model_module_version": "1.2.0",
            "_view_count": null,
            "flex_flow": null,
            "width": null,
            "min_width": null,
            "border": null,
            "align_items": null,
            "bottom": null,
            "_model_module": "@jupyter-widgets/base",
            "top": null,
            "grid_column": null,
            "overflow_y": null,
            "overflow_x": null,
            "grid_auto_flow": null,
            "grid_area": null,
            "grid_template_columns": null,
            "flex": null,
            "_model_name": "LayoutModel",
            "justify_items": null,
            "grid_row": null,
            "max_height": null,
            "align_content": null,
            "visibility": null,
            "align_self": null,
            "height": null,
            "min_height": null,
            "padding": null,
            "grid_auto_rows": null,
            "grid_gap": null,
            "max_width": null,
            "order": null,
            "_view_module_version": "1.2.0",
            "grid_template_areas": null,
            "object_position": null,
            "object_fit": null,
            "grid_auto_columns": null,
            "margin": null,
            "display": null,
            "left": null
          }
        },
        "50fa127159bd4919ac09469cd696f152": {
          "model_module": "@jupyter-widgets/controls",
          "model_name": "FileUploadModel",
          "state": {
            "_view_name": "FileUploadView",
            "_counter": 1,
            "style": "IPY_MODEL_4c0e5dbf9f42402cb66e7975bf6744cc",
            "_dom_classes": [],
            "description": "Upload",
            "multiple": false,
            "_model_name": "FileUploadModel",
            "data": [
              null
            ],
            "button_style": "",
            "_view_module": "@jupyter-widgets/controls",
            "_model_module_version": "1.5.0",
            "accept": "",
            "_view_count": null,
            "disabled": false,
            "_view_module_version": "1.5.0",
            "error": "",
            "description_tooltip": null,
            "metadata": [
              {
                "name": "0cd24b0c-0a9d-483f-8734-5c08988e029f___FREC_C.Rust 3762_newGRR.JPG",
                "type": "image/jpeg",
                "size": 9964,
                "lastModified": 1570837080000
              }
            ],
            "_model_module": "@jupyter-widgets/controls",
            "layout": "IPY_MODEL_8de5bcdd80314d16b5c07dd548bec1d9",
            "icon": "upload"
          }
        },
        "4c0e5dbf9f42402cb66e7975bf6744cc": {
          "model_module": "@jupyter-widgets/controls",
          "model_name": "ButtonStyleModel",
          "state": {
            "_view_name": "StyleView",
            "_model_name": "ButtonStyleModel",
            "_view_module": "@jupyter-widgets/base",
            "_model_module_version": "1.5.0",
            "_view_count": null,
            "button_color": null,
            "font_weight": "",
            "_view_module_version": "1.2.0",
            "_model_module": "@jupyter-widgets/controls"
          }
        },
        "8de5bcdd80314d16b5c07dd548bec1d9": {
          "model_module": "@jupyter-widgets/base",
          "model_name": "LayoutModel",
          "state": {
            "_view_name": "LayoutView",
            "grid_template_rows": null,
            "right": null,
            "justify_content": null,
            "_view_module": "@jupyter-widgets/base",
            "overflow": null,
            "_model_module_version": "1.2.0",
            "_view_count": null,
            "flex_flow": null,
            "width": null,
            "min_width": null,
            "border": null,
            "align_items": null,
            "bottom": null,
            "_model_module": "@jupyter-widgets/base",
            "top": null,
            "grid_column": null,
            "overflow_y": null,
            "overflow_x": null,
            "grid_auto_flow": null,
            "grid_area": null,
            "grid_template_columns": null,
            "flex": null,
            "_model_name": "LayoutModel",
            "justify_items": null,
            "grid_row": null,
            "max_height": null,
            "align_content": null,
            "visibility": null,
            "align_self": null,
            "height": null,
            "min_height": null,
            "padding": null,
            "grid_auto_rows": null,
            "grid_gap": null,
            "max_width": null,
            "order": null,
            "_view_module_version": "1.2.0",
            "grid_template_areas": null,
            "object_position": null,
            "object_fit": null,
            "grid_auto_columns": null,
            "margin": null,
            "display": null,
            "left": null
          }
        },
        "4ce2c94a85564f508690df7a7873e06a": {
          "model_module": "@jupyter-widgets/controls",
          "model_name": "ButtonModel",
          "state": {
            "_view_name": "ButtonView",
            "style": "IPY_MODEL_c87dba231f074f3db00b1283e437f40e",
            "_dom_classes": [],
            "description": "Classify",
            "_model_name": "ButtonModel",
            "button_style": "",
            "_view_module": "@jupyter-widgets/controls",
            "_model_module_version": "1.5.0",
            "tooltip": "",
            "_view_count": null,
            "disabled": false,
            "_view_module_version": "1.5.0",
            "layout": "IPY_MODEL_3c36a07c90f548f6a0e061bf1f811f2e",
            "_model_module": "@jupyter-widgets/controls",
            "icon": ""
          }
        },
        "c87dba231f074f3db00b1283e437f40e": {
          "model_module": "@jupyter-widgets/controls",
          "model_name": "ButtonStyleModel",
          "state": {
            "_view_name": "StyleView",
            "_model_name": "ButtonStyleModel",
            "_view_module": "@jupyter-widgets/base",
            "_model_module_version": "1.5.0",
            "_view_count": null,
            "button_color": null,
            "font_weight": "",
            "_view_module_version": "1.2.0",
            "_model_module": "@jupyter-widgets/controls"
          }
        },
        "3c36a07c90f548f6a0e061bf1f811f2e": {
          "model_module": "@jupyter-widgets/base",
          "model_name": "LayoutModel",
          "state": {
            "_view_name": "LayoutView",
            "grid_template_rows": null,
            "right": null,
            "justify_content": null,
            "_view_module": "@jupyter-widgets/base",
            "overflow": null,
            "_model_module_version": "1.2.0",
            "_view_count": null,
            "flex_flow": null,
            "width": null,
            "min_width": null,
            "border": null,
            "align_items": null,
            "bottom": null,
            "_model_module": "@jupyter-widgets/base",
            "top": null,
            "grid_column": null,
            "overflow_y": null,
            "overflow_x": null,
            "grid_auto_flow": null,
            "grid_area": null,
            "grid_template_columns": null,
            "flex": null,
            "_model_name": "LayoutModel",
            "justify_items": null,
            "grid_row": null,
            "max_height": null,
            "align_content": null,
            "visibility": null,
            "align_self": null,
            "height": null,
            "min_height": null,
            "padding": null,
            "grid_auto_rows": null,
            "grid_gap": null,
            "max_width": null,
            "order": null,
            "_view_module_version": "1.2.0",
            "grid_template_areas": null,
            "object_position": null,
            "object_fit": null,
            "grid_auto_columns": null,
            "margin": null,
            "display": null,
            "left": null
          }
        },
        "1b2ea86097624168ba03561ddf2fb17f": {
          "model_module": "@jupyter-widgets/controls",
          "model_name": "LabelModel",
          "state": {
            "_view_name": "LabelView",
            "style": "IPY_MODEL_81204ca70e194a7a96402995f7a02ae0",
            "_dom_classes": [],
            "description": "",
            "_model_name": "LabelModel",
            "placeholder": "​",
            "_view_module": "@jupyter-widgets/controls",
            "_model_module_version": "1.5.0",
            "value": "Apple___Cedar_apple_rust",
            "_view_count": null,
            "_view_module_version": "1.5.0",
            "description_tooltip": null,
            "_model_module": "@jupyter-widgets/controls",
            "layout": "IPY_MODEL_38ba98356880408ab51a3cb5ba3599fa"
          }
        },
        "81204ca70e194a7a96402995f7a02ae0": {
          "model_module": "@jupyter-widgets/controls",
          "model_name": "DescriptionStyleModel",
          "state": {
            "_view_name": "StyleView",
            "_model_name": "DescriptionStyleModel",
            "description_width": "",
            "_view_module": "@jupyter-widgets/base",
            "_model_module_version": "1.5.0",
            "_view_count": null,
            "_view_module_version": "1.2.0",
            "_model_module": "@jupyter-widgets/controls"
          }
        },
        "38ba98356880408ab51a3cb5ba3599fa": {
          "model_module": "@jupyter-widgets/base",
          "model_name": "LayoutModel",
          "state": {
            "_view_name": "LayoutView",
            "grid_template_rows": null,
            "right": null,
            "justify_content": null,
            "_view_module": "@jupyter-widgets/base",
            "overflow": null,
            "_model_module_version": "1.2.0",
            "_view_count": null,
            "flex_flow": null,
            "width": null,
            "min_width": null,
            "border": null,
            "align_items": null,
            "bottom": null,
            "_model_module": "@jupyter-widgets/base",
            "top": null,
            "grid_column": null,
            "overflow_y": null,
            "overflow_x": null,
            "grid_auto_flow": null,
            "grid_area": null,
            "grid_template_columns": null,
            "flex": null,
            "_model_name": "LayoutModel",
            "justify_items": null,
            "grid_row": null,
            "max_height": null,
            "align_content": null,
            "visibility": null,
            "align_self": null,
            "height": null,
            "min_height": null,
            "padding": null,
            "grid_auto_rows": null,
            "grid_gap": null,
            "max_width": null,
            "order": null,
            "_view_module_version": "1.2.0",
            "grid_template_areas": null,
            "object_position": null,
            "object_fit": null,
            "grid_auto_columns": null,
            "margin": null,
            "display": null,
            "left": null
          }
        },
        "349bccf6f1c74a76a61034626b3f6b87": {
          "model_module": "@jupyter-widgets/output",
          "model_name": "OutputModel",
          "state": {
            "_view_name": "OutputView",
            "msg_id": "",
            "_dom_classes": [],
            "_model_name": "OutputModel",
            "outputs": [
              {
                "output_type": "display_data",
                "metadata": {
                  "tags": []
                },
                "image/png": "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\n",
                "text/plain": "<PIL.Image.Image image mode=RGB size=256x256 at 0x7FF4952D7B38>"
              }
            ],
            "_view_module": "@jupyter-widgets/output",
            "_model_module_version": "1.0.0",
            "_view_count": null,
            "_view_module_version": "1.0.0",
            "layout": "IPY_MODEL_33e905492579460ea5fcfaf8f4c2e6bc",
            "_model_module": "@jupyter-widgets/output"
          }
        },
        "33e905492579460ea5fcfaf8f4c2e6bc": {
          "model_module": "@jupyter-widgets/base",
          "model_name": "LayoutModel",
          "state": {
            "_view_name": "LayoutView",
            "grid_template_rows": null,
            "right": null,
            "justify_content": null,
            "_view_module": "@jupyter-widgets/base",
            "overflow": null,
            "_model_module_version": "1.2.0",
            "_view_count": null,
            "flex_flow": null,
            "width": null,
            "min_width": null,
            "border": null,
            "align_items": null,
            "bottom": null,
            "_model_module": "@jupyter-widgets/base",
            "top": null,
            "grid_column": null,
            "overflow_y": null,
            "overflow_x": null,
            "grid_auto_flow": null,
            "grid_area": null,
            "grid_template_columns": null,
            "flex": null,
            "_model_name": "LayoutModel",
            "justify_items": null,
            "grid_row": null,
            "max_height": null,
            "align_content": null,
            "visibility": null,
            "align_self": null,
            "height": null,
            "min_height": null,
            "padding": null,
            "grid_auto_rows": null,
            "grid_gap": null,
            "max_width": null,
            "order": null,
            "_view_module_version": "1.2.0",
            "grid_template_areas": null,
            "object_position": null,
            "object_fit": null,
            "grid_auto_columns": null,
            "margin": null,
            "display": null,
            "left": null
          }
        }
      }
    }
  },
  "cells": [
    {
      "cell_type": "code",
      "metadata": {
        "colab": {
          "base_uri": "https://localhost:8080/"
        },
        "id": "U-ZLCkXTHV1M",
        "outputId": "ba76970a-0362-4ebb-bc02-17270e8cffcc"
      },
      "source": [
        "# this block is to prepare the fastbook environment, it will install and load common packages.\n",
        "!pip install -Uqq fastbook\n",
        "import fastbook\n",
        "fastbook.setup_book()\n"
      ],
      "execution_count": 1,
      "outputs": [
        {
          "output_type": "stream",
          "text": [
            "\u001b[K     |████████████████████████████████| 727kB 7.5MB/s \n",
            "\u001b[K     |████████████████████████████████| 1.1MB 15.6MB/s \n",
            "\u001b[K     |████████████████████████████████| 194kB 31.9MB/s \n",
            "\u001b[K     |████████████████████████████████| 51kB 8.4MB/s \n",
            "\u001b[K     |████████████████████████████████| 61kB 9.3MB/s \n",
            "\u001b[?25hMounted at /content/gdrive\n"
          ],
          "name": "stdout"
        }
      ]
    },
    {
      "cell_type": "code",
      "metadata": {
        "id": "qWqUe5XE_fsc"
      },
      "source": [
        "# this block is to load specified packages for training\n",
        "from google.colab import drive\n",
        "from pathlib import Path\n",
        "\n",
        "from PIL import Image\n",
        "\n",
        "from fastbook import *\n",
        "from fastai.vision.widgets import *\n"
      ],
      "execution_count": 2,
      "outputs": []
    },
    {
      "cell_type": "code",
      "metadata": {
        "colab": {
          "base_uri": "https://localhost:8080/"
        },
        "id": "HkEVn1WZBKqX",
        "outputId": "c1c74d6f-3343-4410-b73c-910ba60a17a0"
      },
      "source": [
        "# this block is to ensure we use gpu to train data\n",
        "assert os.environ['COLAB_GPU']\n",
        "drive.mount('/content/drive')"
      ],
      "execution_count": 4,
      "outputs": [
        {
          "output_type": "stream",
          "text": [
            "Drive already mounted at /content/drive; to attempt to forcibly remount, call drive.mount(\"/content/drive\", force_remount=True).\n"
          ],
          "name": "stdout"
        }
      ]
    },
    {
      "cell_type": "code",
      "metadata": {
        "colab": {
          "base_uri": "https://localhost:8080/"
        },
        "id": "sgSFvp6fAZ93",
        "outputId": "76ffbe27-a84e-4938-f174-c2d80e01b1da"
      },
      "source": [
        "# this block setts the data location for trainning\n",
        "!rm imgdata\n",
        "!ls '/content/drive/My Drive/data/New Plant Diseases Dataset(Augmented)'\n",
        "!ln -s '/content/drive/My Drive/data/New Plant Diseases Dataset(Augmented)' imgdata"
      ],
      "execution_count": 8,
      "outputs": [
        {
          "output_type": "stream",
          "text": [
            "train\n"
          ],
          "name": "stdout"
        }
      ]
    },
    {
      "cell_type": "code",
      "metadata": {
        "id": "b9Rc01u7CJMI"
      },
      "source": [
        "# this block define the data path\n",
        "datapath = Path('imgdata')"
      ],
      "execution_count": 5,
      "outputs": []
    },
    {
      "cell_type": "code",
      "metadata": {
        "colab": {
          "base_uri": "https://localhost:8080/",
          "height": 162
        },
        "id": "LlvmtUr1CMxC",
        "outputId": "0033542d-ee3a-4ddd-dff0-d02980ceaebf"
      },
      "source": [
        "# this block is to check if we are loading the correct data\n",
        "datapath.ls\n",
        "img = Image.open('imgdata/train/Apple___Apple_scab/0a5e9323-dbad-432d-ac58-d291718345d9___FREC_Scab 3417_90deg.JPG')\n",
        "print(img.shape)\n",
        "img.to_thumb(128,128)"
      ],
      "execution_count": 10,
      "outputs": [
        {
          "output_type": "stream",
          "text": [
            "(256, 256)\n"
          ],
          "name": "stdout"
        },
        {
          "output_type": "execute_result",
          "data": {
            "image/png": "[encoded data removed]",
            "text/plain": [
              "<PIL.Image.Image image mode=RGB size=128x128 at 0x7F811DA4E518>"
            ]
          },
          "metadata": {
            "tags": []
          },
          "execution_count": 10
        }
      ]
    },
    {
      "cell_type": "code",
      "metadata": {
        "id": "Cagyc8lfF-Y3"
      },
      "source": [
        "# this block is to load the data from disk\n",
        "data= ImageDataLoaders.from_folder(datapath, train = \"train\", valid_pct=0.2, bs = 64, num_workers = 4)"
      ],
      "execution_count": 11,
      "outputs": []
    },
    {
      "cell_type": "code",
      "metadata": {
        "colab": {
          "base_uri": "https://localhost:8080/",
          "height": 270,
          "referenced_widgets": [
            "899b111bde0c4962b061f0d102cb2d50",
            "dd62c44e5a8d4d318bb3fb163a1687d1",
            "b5f39de2ae794019b6703c09c22b5a55",
            "e5bcffffcb3f4e38ad4ca83be4a1de96",
            "d2c68886c3584f4bb6d7aea631b6b0c0",
            "986fe6b3e11a4048b63422f93845cdb3",
            "090e6102044348c6b3904c31d29264de",
            "5a53f00e17934100925c5d02d9c40d8a"
          ]
        },
        "id": "V7syIX39GVIq",
        "outputId": "1f1e40ab-68cf-4355-d39f-986cc92f7cd4"
      },
      "source": [
        "# this block is to start training the data using vgg16 provided by pytorch\n",
        "learn = cnn_learner(data, models.vgg16_bn, metrics=error_rate)\n",
        "learn.fine_tune(4)"
      ],
      "execution_count": 12,
      "outputs": [
        {
          "output_type": "stream",
          "text": [
            "Downloading: \"https://download.pytorch.org/models/vgg16_bn-6c64b313.pth\" to /root/.cache/torch/hub/checkpoints/vgg16_bn-6c64b313.pth\n"
          ],
          "name": "stderr"
        },
        {
          "output_type": "display_data",
          "data": {
            "application/vnd.jupyter.widget-view+json": {
              "model_id": "899b111bde0c4962b061f0d102cb2d50",
              "version_minor": 0,
              "version_major": 2
            },
            "text/plain": [
              "HBox(children=(FloatProgress(value=0.0, max=553507836.0), HTML(value='')))"
            ]
          },
          "metadata": {
            "tags": []
          }
        },
        {
          "output_type": "stream",
          "text": [
            "\n"
          ],
          "name": "stdout"
        },
        {
          "output_type": "display_data",
          "data": {
            "text/html": [
              "<table border=\"1\" class=\"dataframe\">\n",
              "  <thead>\n",
              "    <tr style=\"text-align: left;\">\n",
              "      <th>epoch</th>\n",
              "      <th>train_loss</th>\n",
              "      <th>valid_loss</th>\n",
              "      <th>error_rate</th>\n",
              "      <th>time</th>\n",
              "    </tr>\n",
              "  </thead>\n",
              "  <tbody>\n",
              "    <tr>\n",
              "      <td>0</td>\n",
              "      <td>0.189638</td>\n",
              "      <td>0.034472</td>\n",
              "      <td>0.010356</td>\n",
              "      <td>26:52</td>\n",
              "    </tr>\n",
              "  </tbody>\n",
              "</table>"
            ],
            "text/plain": [
              "<IPython.core.display.HTML object>"
            ]
          },
          "metadata": {
            "tags": []
          }
        },
        {
          "output_type": "display_data",
          "data": {
            "text/html": [
              "<table border=\"1\" class=\"dataframe\">\n",
              "  <thead>\n",
              "    <tr style=\"text-align: left;\">\n",
              "      <th>epoch</th>\n",
              "      <th>train_loss</th>\n",
              "      <th>valid_loss</th>\n",
              "      <th>error_rate</th>\n",
              "      <th>time</th>\n",
              "    </tr>\n",
              "  </thead>\n",
              "  <tbody>\n",
              "    <tr>\n",
              "      <td>0</td>\n",
              "      <td>0.022809</td>\n",
              "      <td>0.004229</td>\n",
              "      <td>0.001294</td>\n",
              "      <td>08:07</td>\n",
              "    </tr>\n",
              "    <tr>\n",
              "      <td>1</td>\n",
              "      <td>0.020946</td>\n",
              "      <td>0.016144</td>\n",
              "      <td>0.005178</td>\n",
              "      <td>08:07</td>\n",
              "    </tr>\n",
              "    <tr>\n",
              "      <td>2</td>\n",
              "      <td>0.003377</td>\n",
              "      <td>0.001971</td>\n",
              "      <td>0.000971</td>\n",
              "      <td>08:07</td>\n",
              "    </tr>\n",
              "    <tr>\n",
              "      <td>3</td>\n",
              "      <td>0.001296</td>\n",
              "      <td>0.001797</td>\n",
              "      <td>0.000971</td>\n",
              "      <td>08:07</td>\n",
              "    </tr>\n",
              "  </tbody>\n",
              "</table>"
            ],
            "text/plain": [
              "<IPython.core.display.HTML object>"
            ]
          },
          "metadata": {
            "tags": []
          }
        }
      ]
    },
    {
      "cell_type": "code",
      "metadata": {
        "colab": {
          "base_uri": "https://localhost:8080/",
          "height": 604
        },
        "id": "h58apYFLfco7",
        "outputId": "6d9d562f-6b69-4bfa-ddbc-97c891772ebf"
      },
      "source": [
        "# this block is to show the interpret predictions of the trained model\n",
        "interp = ClassificationInterpretation.from_learner(learn)\n",
        "interp.plot_confusion_matrix()"
      ],
      "execution_count": 13,
      "outputs": [
        {
          "output_type": "display_data",
          "data": {
            "text/html": [
              ""
            ],
            "text/plain": [
              "<IPython.core.display.HTML object>"
            ]
          },
          "metadata": {
            "tags": []
          }
        },
        {
          "output_type": "stream",
          "text": [
            "/usr/local/lib/python3.6/dist-packages/fastai/interpret.py:88: UserWarning: Tight layout not applied. The bottom and top margins cannot be made large enough to accommodate all axes decorations. \n",
            "  plt.tight_layout()\n"
          ],
          "name": "stderr"
        },
        {
          "output_type": "display_data",
          "data": {
            "image/png": "[encoded data removed]",
            "text/plain": [
              "<Figure size 432x288 with 1 Axes>"
            ]
          },
          "metadata": {
            "tags": [],
            "needs_background": "light"
          }
        }
      ]
    },
    {
      "cell_type": "code",
      "metadata": {
        "id": "TdgjsMHEfoQG"
      },
      "source": [
        "# this block is to export the trained data to default file 'export.pkl'\n",
        "learn.export()"
      ],
      "execution_count": 14,
      "outputs": []
    },
    {
      "cell_type": "code",
      "metadata": {
        "id": "yKlmGX3fzDTm"
      },
      "source": [
        "from google.colab import drive\n",
        "from pathlib import Path\n",
        "\n",
        "from PIL import Image\n",
        "\n",
        "from fastbook import *\n",
        "from fastai.vision.widgets import *"
      ],
      "execution_count": 2,
      "outputs": []
    },
    {
      "cell_type": "code",
      "metadata": {
        "colab": {
          "base_uri": "https://localhost:8080/",
          "height": 68
        },
        "id": "oqnHzn6HfxSL",
        "outputId": "ba09b9c7-ac4b-4193-a3bc-4c2f2de66686"
      },
      "source": [
        "learn_inf = load_learner(datapath/'export.pkl')\n",
        "img = Image.open('imgdata/train/Apple___Apple_scab/0a5e9323-dbad-432d-ac58-d291718345d9___FREC_Scab 3417_90deg.JPG')\n",
        "learn_inf.predict('imgdata/train/Apple___Apple_scab/0a5e9323-dbad-432d-ac58-d291718345d9___FREC_Scab 3417_90deg.JPG')\n"
      ],
      "execution_count": 6,
      "outputs": [
        {
          "output_type": "display_data",
          "data": {
            "text/html": [
              ""
            ],
            "text/plain": [
              "<IPython.core.display.HTML object>"
            ]
          },
          "metadata": {
            "tags": []
          }
        },
        {
          "output_type": "execute_result",
          "data": {
            "text/plain": [
              "('Apple___Apple_scab',\n",
              " tensor(0),\n",
              " tensor([1.0000e+00, 5.9179e-10, 7.7505e-08, 5.2192e-10, 1.1795e-10, 3.9295e-09, 2.7585e-07, 1.9713e-09, 2.0742e-08]))"
            ]
          },
          "metadata": {
            "tags": []
          },
          "execution_count": 6
        }
      ]
    },
    {
      "cell_type": "code",
      "metadata": {
        "id": "mDrU3VPYgE3i"
      },
      "source": [
        "from fastai.vision.widgets import *\n",
        "btn_upload = widgets.FileUpload()\n",
        "btn_classify = widgets.Button(description=\"Classify\")\n",
        "out_pl = widgets.Output()\n",
        "lbl_pred = widgets.Label()\n",
        "lbl_pred.value = \"<Class>\"\n",
        "btn_upload.multiple = False\n",
        "\n",
        "def on_button_clicked(b):\n",
        "    img = PILImage.create(btn_upload.data[-1])\n",
        "    out_pl.clear_output()\n",
        "    lbl_pred.value = learn_inf.predict(btn_upload.data[0])[0]\n",
        "    with out_pl:display(img.to_thumb(256,256))\n",
        "    btn_upload.value.clear()\n",
        "    btn_upload.data.clear()\n",
        "\n",
        "btn_classify.on_click(on_button_clicked)"
      ],
      "execution_count": 7,
      "outputs": []
    },
    {
      "cell_type": "code",
      "metadata": {
        "colab": {
          "base_uri": "https://localhost:8080/",
          "height": 369,
          "referenced_widgets": [
            "50fa127159bd4919ac09469cd696f152",
            "4c0e5dbf9f42402cb66e7975bf6744cc",
            "8de5bcdd80314d16b5c07dd548bec1d9",
            "4ce2c94a85564f508690df7a7873e06a",
            "c87dba231f074f3db00b1283e437f40e",
            "3c36a07c90f548f6a0e061bf1f811f2e",
            "1b2ea86097624168ba03561ddf2fb17f",
            "81204ca70e194a7a96402995f7a02ae0",
            "38ba98356880408ab51a3cb5ba3599fa",
            "349bccf6f1c74a76a61034626b3f6b87",
            "33e905492579460ea5fcfaf8f4c2e6bc"
          ]
        },
        "id": "pRUS3-V-gxiR",
        "outputId": "cdd795ea-1ac9-4fc8-f22a-963cc222a161"
      },
      "source": [
        "display(btn_upload, btn_classify, lbl_pred, out_pl)"
      ],
      "execution_count": 8,
      "outputs": [
        {
          "output_type": "display_data",
          "data": {
            "application/vnd.jupyter.widget-view+json": {
              "model_id": "50fa127159bd4919ac09469cd696f152",
              "version_minor": 0,
              "version_major": 2
            },
            "text/plain": [
              "FileUpload(value={}, description='Upload')"
            ]
          },
          "metadata": {
            "tags": []
          }
        },
        {
          "output_type": "display_data",
          "data": {
            "application/vnd.jupyter.widget-view+json": {
              "model_id": "4ce2c94a85564f508690df7a7873e06a",
              "version_minor": 0,
              "version_major": 2
            },
            "text/plain": [
              "Button(description='Classify', style=ButtonStyle())"
            ]
          },
          "metadata": {
            "tags": []
          }
        },
        {
          "output_type": "display_data",
          "data": {
            "application/vnd.jupyter.widget-view+json": {
              "model_id": "1b2ea86097624168ba03561ddf2fb17f",
              "version_minor": 0,
              "version_major": 2
            },
            "text/plain": [
              "Label(value='<Class>')"
            ]
          },
          "metadata": {
            "tags": []
          }
        },
        {
          "output_type": "display_data",
          "data": {
            "application/vnd.jupyter.widget-view+json": {
              "model_id": "349bccf6f1c74a76a61034626b3f6b87",
              "version_minor": 0,
              "version_major": 2
            },
            "text/plain": [
              "Output()"
            ]
          },
          "metadata": {
            "tags": []
          }
        },
        {
          "output_type": "display_data",
          "data": {
            "text/html": [
              ""
            ],
            "text/plain": [
              "<IPython.core.display.HTML object>"
            ]
          },
          "metadata": {
            "tags": []
          }
        }
      ]
    },
    {
      "cell_type": "code",
      "metadata": {
        "colab": {
          "base_uri": "https://localhost:8080/"
        },
        "id": "b3vS5Ic3rnX7",
        "outputId": "c099add8-90fd-4dec-cbee-80a889856dbb"
      },
      "source": [
        "!pip install voila\n",
        "!jupyter serverextension enable voila --sys-prefix"
      ],
      "execution_count": 9,
      "outputs": [
        {
          "output_type": "stream",
          "text": [
            "Requirement already satisfied: voila in /usr/local/lib/python3.6/dist-packages (0.2.4)\n",
            "Requirement already satisfied: nbclient<0.6,>=0.4.0 in /usr/local/lib/python3.6/dist-packages (from voila) (0.5.1)\n",
            "Requirement already satisfied: nbconvert<7,>=6.0.0 in /usr/local/lib/python3.6/dist-packages (from voila) (6.0.7)\n",
            "Requirement already satisfied: jupyter-client<7,>=6.1.3 in /usr/local/lib/python3.6/dist-packages (from voila) (6.1.7)\n",
            "Requirement already satisfied: jupyter-server<2.0.0,>=0.3.0 in /usr/local/lib/python3.6/dist-packages (from voila) (1.0.8)\n",
            "Requirement already satisfied: traitlets>=4.2 in /usr/local/lib/python3.6/dist-packages (from nbclient<0.6,>=0.4.0->voila) (4.3.3)\n",
            "Requirement already satisfied: nbformat>=5.0 in /usr/local/lib/python3.6/dist-packages (from nbclient<0.6,>=0.4.0->voila) (5.0.8)\n",
            "Requirement already satisfied: nest-asyncio in /usr/local/lib/python3.6/dist-packages (from nbclient<0.6,>=0.4.0->voila) (1.4.3)\n",
            "Requirement already satisfied: async-generator in /usr/local/lib/python3.6/dist-packages (from nbclient<0.6,>=0.4.0->voila) (1.10)\n",
            "Requirement already satisfied: jinja2>=2.4 in /usr/local/lib/python3.6/dist-packages (from nbconvert<7,>=6.0.0->voila) (2.11.2)\n",
            "Requirement already satisfied: testpath in /usr/local/lib/python3.6/dist-packages (from nbconvert<7,>=6.0.0->voila) (0.4.4)\n",
            "Requirement already satisfied: jupyterlab-pygments in /usr/local/lib/python3.6/dist-packages (from nbconvert<7,>=6.0.0->voila) (0.1.2)\n",
            "Requirement already satisfied: defusedxml in /usr/local/lib/python3.6/dist-packages (from nbconvert<7,>=6.0.0->voila) (0.6.0)\n",
            "Requirement already satisfied: mistune<2,>=0.8.1 in /usr/local/lib/python3.6/dist-packages (from nbconvert<7,>=6.0.0->voila) (0.8.4)\n",
            "Requirement already satisfied: bleach in /usr/local/lib/python3.6/dist-packages (from nbconvert<7,>=6.0.0->voila) (3.2.1)\n",
            "Requirement already satisfied: entrypoints>=0.2.2 in /usr/local/lib/python3.6/dist-packages (from nbconvert<7,>=6.0.0->voila) (0.3)\n",
            "Requirement already satisfied: jupyter-core in /usr/local/lib/python3.6/dist-packages (from nbconvert<7,>=6.0.0->voila) (4.7.0)\n",
            "Requirement already satisfied: pandocfilters>=1.4.1 in /usr/local/lib/python3.6/dist-packages (from nbconvert<7,>=6.0.0->voila) (1.4.3)\n",
            "Requirement already satisfied: pygments>=2.4.1 in /usr/local/lib/python3.6/dist-packages (from nbconvert<7,>=6.0.0->voila) (2.6.1)\n",
            "Requirement already satisfied: pyzmq>=13 in /usr/local/lib/python3.6/dist-packages (from jupyter-client<7,>=6.1.3->voila) (20.0.0)\n",
            "Requirement already satisfied: tornado>=4.1 in /usr/local/lib/python3.6/dist-packages (from jupyter-client<7,>=6.1.3->voila) (5.1.1)\n",
            "Requirement already satisfied: python-dateutil>=2.1 in /usr/local/lib/python3.6/dist-packages (from jupyter-client<7,>=6.1.3->voila) (2.8.1)\n",
            "Requirement already satisfied: terminado>=0.8.3 in /usr/local/lib/python3.6/dist-packages (from jupyter-server<2.0.0,>=0.3.0->voila) (0.9.1)\n",
            "Requirement already satisfied: prometheus-client in /usr/local/lib/python3.6/dist-packages (from jupyter-server<2.0.0,>=0.3.0->voila) (0.9.0)\n",
            "Requirement already satisfied: Send2Trash in /usr/local/lib/python3.6/dist-packages (from jupyter-server<2.0.0,>=0.3.0->voila) (1.5.0)\n",
            "Requirement already satisfied: ipython-genutils in /usr/local/lib/python3.6/dist-packages (from jupyter-server<2.0.0,>=0.3.0->voila) (0.2.0)\n",
            "Requirement already satisfied: decorator in /usr/local/lib/python3.6/dist-packages (from traitlets>=4.2->nbclient<0.6,>=0.4.0->voila) (4.4.2)\n",
            "Requirement already satisfied: six in /usr/local/lib/python3.6/dist-packages (from traitlets>=4.2->nbclient<0.6,>=0.4.0->voila) (1.15.0)\n",
            "Requirement already satisfied: jsonschema!=2.5.0,>=2.4 in /usr/local/lib/python3.6/dist-packages (from nbformat>=5.0->nbclient<0.6,>=0.4.0->voila) (2.6.0)\n",
            "Requirement already satisfied: MarkupSafe>=0.23 in /usr/local/lib/python3.6/dist-packages (from jinja2>=2.4->nbconvert<7,>=6.0.0->voila) (1.1.1)\n",
            "Requirement already satisfied: webencodings in /usr/local/lib/python3.6/dist-packages (from bleach->nbconvert<7,>=6.0.0->voila) (0.5.1)\n",
            "Requirement already satisfied: packaging in /usr/local/lib/python3.6/dist-packages (from bleach->nbconvert<7,>=6.0.0->voila) (20.4)\n",
            "Requirement already satisfied: ptyprocess; os_name != \"nt\" in /usr/local/lib/python3.6/dist-packages (from terminado>=0.8.3->jupyter-server<2.0.0,>=0.3.0->voila) (0.6.0)\n",
            "Requirement already satisfied: pyparsing>=2.0.2 in /usr/local/lib/python3.6/dist-packages (from packaging->bleach->nbconvert<7,>=6.0.0->voila) (2.4.7)\n",
            "Enabling: voila\n",
            "- Writing config: /usr/etc/jupyter\n",
            "    - Validating...\n",
            "Error loading server extension voila\n",
            "     \u001b[31m X\u001b[0m is voila importable?\n"
          ],
          "name": "stdout"
        }
      ]
    }
  ]
}